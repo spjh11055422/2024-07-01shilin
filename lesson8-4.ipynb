{
 "cells": [
  {
   "cell_type": "code",
   "execution_count": 2,
   "metadata": {},
   "outputs": [
    {
     "name": "stdout",
     "output_type": "stream",
     "text": [
      "請輸入姓名Blank values are not allowed.\n",
      "請輸入姓名yan\n"
     ]
    }
   ],
   "source": [
    "import pyinputplus as pyip\n",
    "name=pyip.inputStr('請輸入姓名')\n",
    "print(name)\n",
    "\n",
    "\n"
   ]
  },
  {
   "cell_type": "code",
   "execution_count": 5,
   "metadata": {},
   "outputs": [
    {
     "name": "stdout",
     "output_type": "stream",
     "text": [
      "請輸入身高170\n"
     ]
    }
   ],
   "source": [
    "height=pyip.inputNum('請輸入身高')\n",
    "print(height)"
   ]
  },
  {
   "cell_type": "code",
   "execution_count": 4,
   "metadata": {},
   "outputs": [
    {
     "name": "stdout",
     "output_type": "stream",
     "text": [
      "Please select one of the following:\n",
      "* cat\n",
      "* dog\n",
      "'2' is not a valid choice.\n",
      "Please select one of the following:\n",
      "* cat\n",
      "* dog\n"
     ]
    }
   ],
   "source": [
    "pyip.inputMenu([\"cat\",\"dog\"],numbered=False)"
   ]
  },
  {
   "cell_type": "code",
   "execution_count": null,
   "metadata": {},
   "outputs": [],
   "source": []
  }
 ],
 "metadata": {
  "kernelspec": {
   "display_name": "Python 3",
   "language": "python",
   "name": "python3"
  },
  "language_info": {
   "codemirror_mode": {
    "name": "ipython",
    "version": 3
   },
   "file_extension": ".py",
   "mimetype": "text/x-python",
   "name": "python",
   "nbconvert_exporter": "python",
   "pygments_lexer": "ipython3",
   "version": "3.11.9"
  }
 },
 "nbformat": 4,
 "nbformat_minor": 2
}

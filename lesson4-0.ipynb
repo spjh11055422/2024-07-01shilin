{
 "cells": [
  {
   "cell_type": "code",
   "execution_count": null,
   "metadata": {},
   "outputs": [],
   "source": [
    "import math\n",
    "side=eval(input('請輸入對邊'))\n",
    "another_side=eval(input('請輸入斜邊'))\n",
    "radian=math.asin(side/another_side)\n",
    "degress=math.degrees(radian)\n",
    "print(f'對邊:{side}\\n斜邊\"{another_side}\\n角度為:{round(degress.ndigits=2)}')"
   ]
  },
  {
   "cell_type": "code",
   "execution_count": 2,
   "metadata": {},
   "outputs": [
    {
     "name": "stdout",
     "output_type": "stream",
     "text": [
      "28,28\n"
     ]
    }
   ],
   "source": [
    "sum1=sum([0,5,9,14])\n",
    "sum2=sum([5,6,8,9])\n",
    "print(sum1,sum2,sep=\",\")"
   ]
  },
  {
   "cell_type": "code",
   "execution_count": null,
   "metadata": {},
   "outputs": [],
   "source": []
  },
  {
   "cell_type": "code",
   "execution_count": 3,
   "metadata": {},
   "outputs": [
    {
     "name": "stdout",
     "output_type": "stream",
     "text": [
      "[0,5,9,14]的加總是28,標準差是1.8257418583505538\n"
     ]
    }
   ],
   "source": [
    "import statistics\n",
    "std1=statistics.stdev([0,5,9,14])\n",
    "std1=statistics.stdev([5,6,8,9])\n",
    "print(f'[0,5,9,14]的加總是{sum1},標準差是{std1}')\n"
   ]
  },
  {
   "cell_type": "code",
   "execution_count": null,
   "metadata": {},
   "outputs": [],
   "source": [
    "import statistics\n",
    "std1=statistics.stdev({0,5,9,14})\n",
    "std2=statistics.stdev({})"
   ]
  }
 ],
 "metadata": {
  "kernelspec": {
   "display_name": "Python 3",
   "language": "python",
   "name": "python3"
  },
  "language_info": {
   "codemirror_mode": {
    "name": "ipython",
    "version": 3
   },
   "file_extension": ".py",
   "mimetype": "text/x-python",
   "name": "python",
   "nbconvert_exporter": "python",
   "pygments_lexer": "ipython3",
   "version": "3.11.9"
  }
 },
 "nbformat": 4,
 "nbformat_minor": 2
}

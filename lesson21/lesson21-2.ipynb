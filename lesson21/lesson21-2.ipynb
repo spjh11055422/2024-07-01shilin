{
 "cells": [
  {
   "cell_type": "code",
   "execution_count": 3,
   "metadata": {},
   "outputs": [
    {
     "name": "stdout",
     "output_type": "stream",
     "text": [
      "減肥是需要多方面努力的過程，沒有萬靈丹。以下是一些健康有效的減肥秘訣：\n",
      "\n",
      "**飲食調整:**\n",
      "\n",
      "* **均衡飲食：**  \n",
      "    * 充足的蔬果，富含纖維和維生素，讓你飽腹感更強。\n",
      "    * 選擇優質蛋白質，如魚肉、雞肉、豆腐等，有助於維持肌肉量。\n",
      "    * 控制碳水化合物的攝入，選擇全穀物和複合碳水化合物。\n",
      "    * 限制糖分和加工食品的攝入，這些食物會讓你很容易感到飢餓。\n",
      "* **減少熱量攝入：** \n",
      "    * 計算你的每日熱量需求，並設定一個健康的熱量目標，比你的需求低 500-1000 卡路里。\n",
      "    * 關注份量，不要過量進食。\n",
      "    * 多喝水，水可以讓你感到飽腹感。\n",
      "* **戒掉碳酸飲料、果汁、甜食等高糖分食物。**\n",
      "* **多攝取膳食纖維：** 纖維可以幫助你控制食慾，並改善腸道健康。\n",
      "* **注意飲食記錄：** 記錄你的飲食，可以幫助你了解自己的飲食習慣和熱量攝入。\n",
      "\n",
      "**運動習慣:**\n",
      "\n",
      "* **規律運動：**  \n",
      "    * 每週至少進行 150 分鐘的中等強度運動，或 75 分鐘的高強度運動。\n",
      "    * 選擇你喜歡的運動，更容易坚持。\n",
      "    * 可以嘗試結合不同的運動方式，例如跑步、游泳、跳舞、瑜伽等。\n",
      "* **增加日常活動量：** \n",
      "    * 多走楼梯，步行上下班，多做家務。\n",
      "    * 嘗試利用碎片時間进行一些简单的运动，例如在看电视时做一些伸展运动。\n",
      "\n",
      "**其他重要因素:**\n",
      "\n",
      "* **充足的睡眠：** 睡眠不足會導致荷爾蒙失衡，增加飢餓感，導致肥胖。\n",
      "* **壓力管理：** 壓力會導致過度飲食，選擇健康的應對壓力方式，如運動、冥想等。\n",
      "* **尋求專業幫助：** 如果需要，可以諮詢營養師或醫生，制定個性化的減肥方案。\n",
      "\n",
      "**记住：**\n",
      "\n",
      "* 減肥是一個循序漸進的過程，不要急於求成。\n",
      "* 找到適合你的方法，並堅持下去。\n",
      "* 飲食和運動要均衡，才能達到最佳效果。\n",
      "* 保持積極的心態，相信自己可以成功減肥。\n",
      "\n",
      "**請注意，以上資訊僅供參考，不構成醫療建議。** 如果你有任何健康問題，請諮詢你的醫生或其他醫療專業人士。\n"
     ]
    }
   ],
   "source": [
    "from dotenv import load_dotenv\n",
    "import os\n",
    "import google.generativeai as genai\n",
    "load_dotenv()\n",
    "genai.configure(api_key=os.environ['api_key'])\n",
    "model = genai.GenerativeModel('gemini-1.5-flash')\n",
    "response = model.generate_content(\"減肥秘訣\")\n",
    "print(response.text)"
   ]
  }
 ],
 "metadata": {
  "kernelspec": {
   "display_name": "Python 3",
   "language": "python",
   "name": "python3"
  },
  "language_info": {
   "codemirror_mode": {
    "name": "ipython",
    "version": 3
   },
   "file_extension": ".py",
   "mimetype": "text/x-python",
   "name": "python",
   "nbconvert_exporter": "python",
   "pygments_lexer": "ipython3",
   "version": "3.11.9"
  }
 },
 "nbformat": 4,
 "nbformat_minor": 2
}

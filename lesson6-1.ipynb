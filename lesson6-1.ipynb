{
 "cells": [
  {
   "cell_type": "code",
   "execution_count": 10,
   "metadata": {},
   "outputs": [
    {
     "name": "stdout",
     "output_type": "stream",
     "text": [
      "H\n",
      "E\n",
      "L\n",
      "L\n",
      "O\n",
      "!\n",
      " \n",
      "W\n",
      "O\n",
      "R\n",
      "D\n",
      "!\n"
     ]
    }
   ],
   "source": [
    "for word in \"HELLO! WORD!\":\n",
    "    print(word)"
   ]
  },
  {
   "cell_type": "code",
   "execution_count": 14,
   "metadata": {},
   "outputs": [
    {
     "name": "stdout",
     "output_type": "stream",
     "text": [
      "5050\n"
     ]
    }
   ],
   "source": [
    "totle=0\n",
    "for a in range(1,101):\n",
    "    totle+=a\n",
    "print(totle)"
   ]
  },
  {
   "cell_type": "code",
   "execution_count": 19,
   "metadata": {},
   "outputs": [
    {
     "name": "stdout",
     "output_type": "stream",
     "text": [
      "1\n",
      "2\n",
      "4\n",
      "5\n",
      "10\n",
      "20\n",
      "25\n",
      "50\n",
      "100\n"
     ]
    }
   ],
   "source": [
    "n=int(input(\"輸入一個數\"))\n",
    "for a in range(1,n+1):\n",
    "    if n%a==0:\n",
    "        print(a)\n",
    "\n"
   ]
  },
  {
   "cell_type": "code",
   "execution_count": 20,
   "metadata": {},
   "outputs": [
    {
     "name": "stdout",
     "output_type": "stream",
     "text": [
      "70\n"
     ]
    }
   ],
   "source": [
    "n=70\n",
    "n2=50\n",
    "max==n if n>n2 else n2\n",
    "print(n)"
   ]
  },
  {
   "cell_type": "code",
   "execution_count": 26,
   "metadata": {},
   "outputs": [
    {
     "name": "stdout",
     "output_type": "stream",
     "text": [
      "49999995000000\n"
     ]
    }
   ],
   "source": [
    "totle=0\n",
    "i=1\n",
    "while i<=100:\n",
    "    totle+=i\n",
    "    i+=1\n",
    "print(totle)\n"
   ]
  },
  {
   "cell_type": "code",
   "execution_count": 30,
   "metadata": {},
   "outputs": [
    {
     "name": "stdout",
     "output_type": "stream",
     "text": [
      "1*1=1\n",
      "2*1=2\n",
      "3*1=3\n",
      "4*1=4\n",
      "5*1=5\n",
      "6*1=6\n",
      "7*1=7\n",
      "8*1=8\n",
      "9*1=9\n",
      "1*2=2\n",
      "2*2=4\n",
      "3*2=6\n",
      "4*2=8\n",
      "5*2=10\n",
      "6*2=12\n",
      "7*2=14\n",
      "8*2=16\n",
      "9*2=18\n",
      "1*3=3\n",
      "2*3=6\n",
      "3*3=9\n",
      "4*3=12\n",
      "5*3=15\n",
      "6*3=18\n",
      "7*3=21\n",
      "8*3=24\n",
      "9*3=27\n",
      "1*4=4\n",
      "2*4=8\n",
      "3*4=12\n",
      "4*4=16\n",
      "5*4=20\n",
      "6*4=24\n",
      "7*4=28\n",
      "8*4=32\n",
      "9*4=36\n",
      "1*5=5\n",
      "2*5=10\n",
      "3*5=15\n",
      "4*5=20\n",
      "5*5=25\n",
      "6*5=30\n",
      "7*5=35\n",
      "8*5=40\n",
      "9*5=45\n",
      "1*6=6\n",
      "2*6=12\n",
      "3*6=18\n",
      "4*6=24\n",
      "5*6=30\n",
      "6*6=36\n",
      "7*6=42\n",
      "8*6=48\n",
      "9*6=54\n",
      "1*7=7\n",
      "2*7=14\n",
      "3*7=21\n",
      "4*7=28\n",
      "5*7=35\n",
      "6*7=42\n",
      "7*7=49\n",
      "8*7=56\n",
      "9*7=63\n",
      "1*8=8\n",
      "2*8=16\n",
      "3*8=24\n",
      "4*8=32\n",
      "5*8=40\n",
      "6*8=48\n",
      "7*8=56\n",
      "8*8=64\n",
      "9*8=72\n",
      "1*9=9\n",
      "2*9=18\n",
      "3*9=27\n",
      "4*9=36\n",
      "5*9=45\n",
      "6*9=54\n",
      "7*9=63\n",
      "8*9=72\n",
      "9*9=81\n"
     ]
    }
   ],
   "source": [
    "for i in range(1,10):\n",
    "\n",
    "    for a in range(1,10):\n",
    "        print(f\"{a}*{i}={a*i}\")\n"
   ]
  },
  {
   "cell_type": "code",
   "execution_count": null,
   "metadata": {},
   "outputs": [],
   "source": []
  }
 ],
 "metadata": {
  "kernelspec": {
   "display_name": "Python 3",
   "language": "python",
   "name": "python3"
  },
  "language_info": {
   "codemirror_mode": {
    "name": "ipython",
    "version": 3
   },
   "file_extension": ".py",
   "mimetype": "text/x-python",
   "name": "python",
   "nbconvert_exporter": "python",
   "pygments_lexer": "ipython3",
   "version": "3.11.9"
  }
 },
 "nbformat": 4,
 "nbformat_minor": 2
}

{
 "cells": [
  {
   "cell_type": "code",
   "execution_count": 31,
   "metadata": {},
   "outputs": [
    {
     "name": "stdout",
     "output_type": "stream",
     "text": [
      "沒有這個檔\n"
     ]
    }
   ],
   "source": [
    "import os\n",
    "file_path=os.path.abspath(__name__)\n",
    "current_dir_name= os.path.dirname(file_path)\n",
    "file_position = os.path.join(current_dir_name,'data','class.csv')\n",
    "if os.path.isfile(file_position):\n",
    "    print('有這個檔案')\n",
    "else:\n",
    "    print('沒有這個檔')\n",
    "    \n",
    "\n"
   ]
  },
  {
   "cell_type": "code",
   "execution_count": 34,
   "metadata": {},
   "outputs": [],
   "source": [
    "with open(file_position,mode='w',encoding='utf-8') as file:\n",
    "    file.write('姓名,國文,英文,數學\\n楊凱,100,100,100\\n')\n"
   ]
  },
  {
   "cell_type": "code",
   "execution_count": 35,
   "metadata": {},
   "outputs": [
    {
     "data": {
      "text/plain": [
       "{'姓名': '楊凱', '國文': 96, '英文': 78, '數學': 76}"
      ]
     },
     "execution_count": 35,
     "metadata": {},
     "output_type": "execute_result"
    }
   ],
   "source": [
    "{'姓名':'楊凱',\n",
    " '國文':96,\n",
    " '英文':78,\n",
    " '數學':76}"
   ]
  },
  {
   "cell_type": "code",
   "execution_count": 38,
   "metadata": {},
   "outputs": [
    {
     "data": {
      "text/plain": [
       "[{'姓名': '楊凱', '國文': 96, '英文': 78, '數學': 76},\n",
       " {'姓名': 'yang kai xuan', '國文': 75, '數學': 89, '英文': 65}]"
      ]
     },
     "execution_count": 38,
     "metadata": {},
     "output_type": "execute_result"
    }
   ],
   "source": [
    "[{'姓名':'楊凱',\n",
    " '國文':96,\n",
    " '英文':78,\n",
    " '數學':76}\n",
    ",\n",
    "{'姓名':'yang kai xuan',\n",
    " '國文':75,\n",
    " '數學':89,\n",
    " '英文':65}\n",
    "]"
   ]
  },
  {
   "cell_type": "code",
   "execution_count": 44,
   "metadata": {},
   "outputs": [
    {
     "data": {
      "text/plain": [
       "[{'姓名': '徐國堂', '國文': 96, '數學': 78, '英文': 76},\n",
       " {'姓名': 'robert', '國文': 75, '數學': 89, '英文': 65}]"
      ]
     },
     "execution_count": 44,
     "metadata": {},
     "output_type": "execute_result"
    }
   ],
   "source": [
    "students = list()\n",
    "students.append(\n",
    "{'姓名':'徐國堂',\n",
    " '國文':96,\n",
    " '數學':78,\n",
    " '英文':76}\n",
    " )\n",
    "\n",
    "students.append(\n",
    "    {'姓名':'robert',\n",
    "    '國文':75,\n",
    "    '數學':89,\n",
    "    '英文':65}\n",
    ")\n",
    "\n",
    "students"
   ]
  },
  {
   "cell_type": "code",
   "execution_count": 45,
   "metadata": {},
   "outputs": [
    {
     "data": {
      "text/plain": [
       "list"
      ]
     },
     "execution_count": 45,
     "metadata": {},
     "output_type": "execute_result"
    }
   ],
   "source": [
    "type([])"
   ]
  },
  {
   "cell_type": "code",
   "execution_count": 53,
   "metadata": {},
   "outputs": [
    {
     "data": {
      "text/plain": [
       "['林建宏',\n",
       " '陳凱翔',\n",
       " '郭淑真',\n",
       " '蘇凡菁',\n",
       " '楊健麟',\n",
       " '游倫城',\n",
       " '林瑞喬',\n",
       " '張牧聿',\n",
       " '彭茹靖',\n",
       " '周怡啟',\n",
       " '張伊映',\n",
       " '林清英',\n",
       " '周怡啟',\n",
       " '鄭佳玲',\n",
       " '李進慧',\n",
       " '朱士弘',\n",
       " '唐翊修',\n",
       " '賴佳雯',\n",
       " '林佳蓉',\n",
       " '李彥伸',\n",
       " '陳家年',\n",
       " '馮耀中',\n",
       " '林志喜',\n",
       " '李淑芳',\n",
       " '陳俊憲',\n",
       " '陳姵彬',\n",
       " '陳俊憲',\n",
       " '王雅慧',\n",
       " '沈心利',\n",
       " '胡芳瑜',\n",
       " '潘英迪',\n",
       " '蒙淑惠',\n",
       " '陳得映',\n",
       " '許芳如',\n",
       " '方雅慧',\n",
       " '趙偉銘',\n",
       " '戴萱能',\n",
       " '藍姿婷',\n",
       " '黃健發',\n",
       " '陳逸華',\n",
       " '黃麗美',\n",
       " '羅佩樺',\n",
       " '錢佩豪',\n",
       " '王士銘',\n",
       " '龔姵君',\n",
       " '王志謙',\n",
       " '翁鈺婷',\n",
       " '陳凱翔',\n",
       " '余丞苓',\n",
       " '王筱婷']"
      ]
     },
     "execution_count": 53,
     "metadata": {},
     "output_type": "execute_result"
    }
   ],
   "source": [
    "import random\n",
    "with open('names.txt',encoding='utf-8') as file:\n",
    "    content=file.read()\n",
    "    names=content.split(sep='\\n')\n",
    "    student_names=random.choices(names,k=50)\n",
    "student_names"
   ]
  }
 ],
 "metadata": {
  "kernelspec": {
   "display_name": "Python 3",
   "language": "python",
   "name": "python3"
  },
  "language_info": {
   "codemirror_mode": {
    "name": "ipython",
    "version": 3
   },
   "file_extension": ".py",
   "mimetype": "text/x-python",
   "name": "python",
   "nbconvert_exporter": "python",
   "pygments_lexer": "ipython3",
   "version": "3.11.9"
  }
 },
 "nbformat": 4,
 "nbformat_minor": 2
}

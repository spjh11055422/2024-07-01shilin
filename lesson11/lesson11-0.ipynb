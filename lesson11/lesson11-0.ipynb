{
 "cells": [
  {
   "cell_type": "code",
   "execution_count": 31,
   "metadata": {},
   "outputs": [
    {
     "name": "stdout",
     "output_type": "stream",
     "text": [
      "沒有這個檔\n"
     ]
    }
   ],
   "source": [
    "import os\n",
    "file_path=os.path.abspath(__name__)\n",
    "current_dir_name= os.path.dirname(file_path)\n",
    "file_position = os.path.join(current_dir_name,'data','class.csv')\n",
    "if os.path.isfile(file_position):\n",
    "    print('有這個檔案')\n",
    "else:\n",
    "    print('沒有這個檔')\n",
    "    \n",
    "\n"
   ]
  },
  {
   "cell_type": "code",
   "execution_count": 34,
   "metadata": {},
   "outputs": [],
   "source": [
    "with open(file_position,mode='w',encoding='utf-8') as file:\n",
    "    file.write('姓名,國文,英文,數學\\n楊凱,100,100,100\\n')\n"
   ]
  },
  {
   "cell_type": "code",
   "execution_count": 35,
   "metadata": {},
   "outputs": [
    {
     "data": {
      "text/plain": [
       "{'姓名': '楊凱', '國文': 96, '英文': 78, '數學': 76}"
      ]
     },
     "execution_count": 35,
     "metadata": {},
     "output_type": "execute_result"
    }
   ],
   "source": [
    "{'姓名':'楊凱',\n",
    " '國文':96,\n",
    " '英文':78,\n",
    " '數學':76}"
   ]
  },
  {
   "cell_type": "code",
   "execution_count": 38,
   "metadata": {},
   "outputs": [
    {
     "data": {
      "text/plain": [
       "[{'姓名': '楊凱', '國文': 96, '英文': 78, '數學': 76},\n",
       " {'姓名': 'yang kai xuan', '國文': 75, '數學': 89, '英文': 65}]"
      ]
     },
     "execution_count": 38,
     "metadata": {},
     "output_type": "execute_result"
    }
   ],
   "source": [
    "[{'姓名':'楊凱',\n",
    " '國文':96,\n",
    " '英文':78,\n",
    " '數學':76}\n",
    ",\n",
    "{'姓名':'yang kai xuan',\n",
    " '國文':75,\n",
    " '數學':89,\n",
    " '英文':65}\n",
    "]"
   ]
  },
  {
   "cell_type": "code",
   "execution_count": 44,
   "metadata": {},
   "outputs": [
    {
     "data": {
      "text/plain": [
       "[{'姓名': '徐國堂', '國文': 96, '數學': 78, '英文': 76},\n",
       " {'姓名': 'robert', '國文': 75, '數學': 89, '英文': 65}]"
      ]
     },
     "execution_count": 44,
     "metadata": {},
     "output_type": "execute_result"
    }
   ],
   "source": [
    "students = list()\n",
    "students.append(\n",
    "{'姓名':'徐國堂',\n",
    " '國文':96,\n",
    " '數學':78,\n",
    " '英文':76}\n",
    " )\n",
    "\n",
    "students.append(\n",
    "    {'姓名':'robert',\n",
    "    '國文':75,\n",
    "    '數學':89,\n",
    "    '英文':65}\n",
    ")\n",
    "\n",
    "students"
   ]
  },
  {
   "cell_type": "code",
   "execution_count": 45,
   "metadata": {},
   "outputs": [
    {
     "data": {
      "text/plain": [
       "list"
      ]
     },
     "execution_count": 45,
     "metadata": {},
     "output_type": "execute_result"
    }
   ],
   "source": [
    "type([])"
   ]
  },
  {
   "cell_type": "code",
   "execution_count": 53,
   "metadata": {},
   "outputs": [
    {
     "data": {
      "text/plain": [
       "['林建宏',\n",
       " '陳凱翔',\n",
       " '郭淑真',\n",
       " '蘇凡菁',\n",
       " '楊健麟',\n",
       " '游倫城',\n",
       " '林瑞喬',\n",
       " '張牧聿',\n",
       " '彭茹靖',\n",
       " '周怡啟',\n",
       " '張伊映',\n",
       " '林清英',\n",
       " '周怡啟',\n",
       " '鄭佳玲',\n",
       " '李進慧',\n",
       " '朱士弘',\n",
       " '唐翊修',\n",
       " '賴佳雯',\n",
       " '林佳蓉',\n",
       " '李彥伸',\n",
       " '陳家年',\n",
       " '馮耀中',\n",
       " '林志喜',\n",
       " '李淑芳',\n",
       " '陳俊憲',\n",
       " '陳姵彬',\n",
       " '陳俊憲',\n",
       " '王雅慧',\n",
       " '沈心利',\n",
       " '胡芳瑜',\n",
       " '潘英迪',\n",
       " '蒙淑惠',\n",
       " '陳得映',\n",
       " '許芳如',\n",
       " '方雅慧',\n",
       " '趙偉銘',\n",
       " '戴萱能',\n",
       " '藍姿婷',\n",
       " '黃健發',\n",
       " '陳逸華',\n",
       " '黃麗美',\n",
       " '羅佩樺',\n",
       " '錢佩豪',\n",
       " '王士銘',\n",
       " '龔姵君',\n",
       " '王志謙',\n",
       " '翁鈺婷',\n",
       " '陳凱翔',\n",
       " '余丞苓',\n",
       " '王筱婷']"
      ]
     },
     "execution_count": 53,
     "metadata": {},
     "output_type": "execute_result"
    }
   ],
   "source": [
    "import random\n",
    "with open('names.txt',encoding='utf-8') as file:\n",
    "    content=file.read()\n",
    "    names=content.split(sep='\\n')\n",
    "    student_names=random.choices(names,k=50)\n",
    "student_names"
   ]
  },
  {
   "cell_type": "code",
   "execution_count": 63,
   "metadata": {},
   "outputs": [
    {
     "data": {
      "text/plain": [
       "[{'姓名': '林建宏', '國文': 98, '英文': 75, '數學': 91},\n",
       " {'姓名': '陳凱翔', '國文': 93, '英文': 83, '數學': 73},\n",
       " {'姓名': '郭淑真', '國文': 50, '英文': 80, '數學': 53},\n",
       " {'姓名': '蘇凡菁', '國文': 76, '英文': 72, '數學': 88},\n",
       " {'姓名': '楊健麟', '國文': 92, '英文': 96, '數學': 83},\n",
       " {'姓名': '游倫城', '國文': 80, '英文': 80, '數學': 50},\n",
       " {'姓名': '林瑞喬', '國文': 85, '英文': 56, '數學': 97},\n",
       " {'姓名': '張牧聿', '國文': 52, '英文': 59, '數學': 73},\n",
       " {'姓名': '彭茹靖', '國文': 60, '英文': 76, '數學': 65},\n",
       " {'姓名': '周怡啟', '國文': 56, '英文': 74, '數學': 75},\n",
       " {'姓名': '張伊映', '國文': 75, '英文': 56, '數學': 68},\n",
       " {'姓名': '林清英', '國文': 93, '英文': 72, '數學': 56},\n",
       " {'姓名': '周怡啟', '國文': 94, '英文': 82, '數學': 68},\n",
       " {'姓名': '鄭佳玲', '國文': 86, '英文': 77, '數學': 78},\n",
       " {'姓名': '李進慧', '國文': 98, '英文': 89, '數學': 59},\n",
       " {'姓名': '朱士弘', '國文': 64, '英文': 59, '數學': 76},\n",
       " {'姓名': '唐翊修', '國文': 68, '英文': 56, '數學': 97},\n",
       " {'姓名': '賴佳雯', '國文': 55, '英文': 78, '數學': 98},\n",
       " {'姓名': '林佳蓉', '國文': 100, '英文': 62, '數學': 88},\n",
       " {'姓名': '李彥伸', '國文': 54, '英文': 75, '數學': 74},\n",
       " {'姓名': '陳家年', '國文': 63, '英文': 57, '數學': 100},\n",
       " {'姓名': '馮耀中', '國文': 53, '英文': 87, '數學': 75},\n",
       " {'姓名': '林志喜', '國文': 84, '英文': 70, '數學': 75},\n",
       " {'姓名': '李淑芳', '國文': 64, '英文': 76, '數學': 58},\n",
       " {'姓名': '陳俊憲', '國文': 78, '英文': 57, '數學': 57},\n",
       " {'姓名': '陳姵彬', '國文': 65, '英文': 67, '數學': 89},\n",
       " {'姓名': '陳俊憲', '國文': 72, '英文': 77, '數學': 60},\n",
       " {'姓名': '王雅慧', '國文': 60, '英文': 93, '數學': 53},\n",
       " {'姓名': '沈心利', '國文': 55, '英文': 97, '數學': 56},\n",
       " {'姓名': '胡芳瑜', '國文': 64, '英文': 81, '數學': 90},\n",
       " {'姓名': '潘英迪', '國文': 59, '英文': 93, '數學': 54},\n",
       " {'姓名': '蒙淑惠', '國文': 61, '英文': 72, '數學': 61},\n",
       " {'姓名': '陳得映', '國文': 90, '英文': 74, '數學': 50},\n",
       " {'姓名': '許芳如', '國文': 96, '英文': 100, '數學': 56},\n",
       " {'姓名': '方雅慧', '國文': 73, '英文': 79, '數學': 53},\n",
       " {'姓名': '趙偉銘', '國文': 64, '英文': 54, '數學': 74},\n",
       " {'姓名': '戴萱能', '國文': 87, '英文': 66, '數學': 64},\n",
       " {'姓名': '藍姿婷', '國文': 93, '英文': 63, '數學': 85},\n",
       " {'姓名': '黃健發', '國文': 62, '英文': 57, '數學': 99},\n",
       " {'姓名': '陳逸華', '國文': 61, '英文': 83, '數學': 79},\n",
       " {'姓名': '黃麗美', '國文': 82, '英文': 66, '數學': 62},\n",
       " {'姓名': '羅佩樺', '國文': 61, '英文': 84, '數學': 69},\n",
       " {'姓名': '錢佩豪', '國文': 66, '英文': 59, '數學': 81},\n",
       " {'姓名': '王士銘', '國文': 52, '英文': 79, '數學': 60},\n",
       " {'姓名': '龔姵君', '國文': 91, '英文': 92, '數學': 71},\n",
       " {'姓名': '王志謙', '國文': 90, '英文': 97, '數學': 61},\n",
       " {'姓名': '翁鈺婷', '國文': 78, '英文': 69, '數學': 100},\n",
       " {'姓名': '陳凱翔', '國文': 67, '英文': 68, '數學': 68},\n",
       " {'姓名': '余丞苓', '國文': 55, '英文': 72, '數學': 91},\n",
       " {'姓名': '王筱婷', '國文': 95, '英文': 93, '數學': 83}]"
      ]
     },
     "execution_count": 63,
     "metadata": {},
     "output_type": "execute_result"
    }
   ],
   "source": [
    "student=[]\n",
    "for name in student_names:\n",
    "    chinese = random.randint(50,100)\n",
    "    english = random.randint(50,100)\n",
    "    math = random.randint(50,100)\n",
    "    student.append({'姓名':name,\n",
    "                    '國文':chinese,\n",
    "                    '英文':english,\n",
    "                    '數學':math})\n",
    "student\n"
   ]
  },
  {
   "cell_type": "code",
   "execution_count": 61,
   "metadata": {},
   "outputs": [
    {
     "data": {
      "text/plain": [
       "'/workspaces/2024-07-01shilin/lesson11/data/students.csv'"
      ]
     },
     "execution_count": 61,
     "metadata": {},
     "output_type": "execute_result"
    }
   ],
   "source": [
    "import os\n",
    "file_path = os.path.abspath(__name__) #檔案的絕對位置\n",
    "current_dir_name = os.path.dirname(file_path) #取得目前的目錄\n",
    "file_position = os.path.join(current_dir_name,'data','students.csv') #操作檔案的絕對位置\n",
    "file_position"
   ]
  },
  {
   "cell_type": "code",
   "execution_count": 67,
   "metadata": {},
   "outputs": [],
   "source": [
    "import csv\n",
    "with open(file_position,mode='w',newline='') as file:\n",
    "    writer = csv.DictWriter(file,['姓名','國文','英文','數學'])\n",
    "    writer.writeheader()\n",
    "    writer.writerows(students)"
   ]
  }
 ],
 "metadata": {
  "kernelspec": {
   "display_name": "Python 3",
   "language": "python",
   "name": "python3"
  },
  "language_info": {
   "codemirror_mode": {
    "name": "ipython",
    "version": 3
   },
   "file_extension": ".py",
   "mimetype": "text/x-python",
   "name": "python",
   "nbconvert_exporter": "python",
   "pygments_lexer": "ipython3",
   "version": "3.11.9"
  }
 },
 "nbformat": 4,
 "nbformat_minor": 2
}

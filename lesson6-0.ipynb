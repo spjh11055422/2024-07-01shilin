{
 "cells": [
  {
   "cell_type": "code",
   "execution_count": 2,
   "metadata": {},
   "outputs": [
    {
     "name": "stdout",
     "output_type": "stream",
     "text": [
      "優\n"
     ]
    }
   ],
   "source": [
    "score=int(input(\"你的分數\"))\n",
    "if score>=90:\n",
    "    print(\"優\")\n",
    "elif score>=80:\n",
    "    print(\"甲\")\n",
    "elif score>=70:\n",
    "    print(\"乙\")\n",
    "elif score>=60:\n",
    "    print(丙)\n",
    "else:\n",
    "    print(\"丁\")\n",
    "\n"
   ]
  },
  {
   "cell_type": "code",
   "execution_count": 6,
   "metadata": {},
   "outputs": [
    {
     "name": "stdout",
     "output_type": "stream",
     "text": [
      "不加分\n"
     ]
    }
   ],
   "source": [
    "add=input(\"要不要加分(y,n)\")\n",
    "if not add==\"y\":\n",
    "    print(\"不加分\")\n",
    "else:\n",
    "    print(\"加分\")\n"
   ]
  },
  {
   "cell_type": "code",
   "execution_count": 9,
   "metadata": {},
   "outputs": [
    {
     "name": "stdout",
     "output_type": "stream",
     "text": [
      "獎金0\n"
     ]
    }
   ],
   "source": [
    "c=int(input(\"請輸入國文分數\"))\n",
    "m=int(input(\"請輸入數學分數\"))\n",
    "if c==100 and m==100:\n",
    "    print(\"獎金1000\")\n",
    "elif c==100 or m==100:\n",
    "    print(\"獎金500\")\n",
    "else:\n",
    "    print(\"獎金0\")\n",
    "\n"
   ]
  },
  {
   "cell_type": "code",
   "execution_count": null,
   "metadata": {},
   "outputs": [],
   "source": []
  }
 ],
 "metadata": {
  "kernelspec": {
   "display_name": "Python 3",
   "language": "python",
   "name": "python3"
  },
  "language_info": {
   "codemirror_mode": {
    "name": "ipython",
    "version": 3
   },
   "file_extension": ".py",
   "mimetype": "text/x-python",
   "name": "python",
   "nbconvert_exporter": "python",
   "pygments_lexer": "ipython3",
   "version": "3.11.9"
  }
 },
 "nbformat": 4,
 "nbformat_minor": 2
}

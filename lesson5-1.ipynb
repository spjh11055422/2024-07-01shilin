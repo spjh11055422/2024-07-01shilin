{
 "cells": [
  {
   "cell_type": "code",
   "execution_count": 4,
   "metadata": {},
   "outputs": [
    {
     "name": "stdout",
     "output_type": "stream",
     "text": [
      "False\n",
      "True\n",
      "True\n",
      "False\n"
     ]
    }
   ],
   "source": [
    "#關係運算子\n",
    "#指示運算子\n",
    "\n",
    "print(3>5)\n",
    "print(5>3)\n",
    "print(5==5)\n",
    "print(5!=5)"
   ]
  },
  {
   "cell_type": "code",
   "execution_count": 4,
   "metadata": {},
   "outputs": [
    {
     "ename": "SyntaxError",
     "evalue": "expected ':' (19749072.py, line 3)",
     "output_type": "error",
     "traceback": [
      "\u001b[0;36m  Cell \u001b[0;32mIn[4], line 3\u001b[0;36m\u001b[0m\n\u001b[0;31m    if score<0\u001b[0m\n\u001b[0m              ^\u001b[0m\n\u001b[0;31mSyntaxError\u001b[0m\u001b[0;31m:\u001b[0m expected ':'\n"
     ]
    }
   ],
   "source": [
    "try:\n",
    " score=int(input(\"請輸入學生分數:(最高300分)\"))\n",
    " if score<0\n",
    "  raise ValueError(\"輸入數字要大於等於0\")\n",
    " \n",
    " if score>300\n",
    "  raise ValueError(\"數字要小於等於300\")\n",
    " \n",
    "except:\n",
    "   print(\"輸入格式有誤\")\n",
    "\n",
    "is_add=input(\"請問學生是否府和加分條件(y,n):\")\n",
    "if is_add==\"y\":\n",
    "    score*=1.05\n",
    "    if score>300:\n",
    "      score=300\n",
    "      \n",
    "      \n",
    "except Exception as error:\n",
    "print(error)\n",
    "\n"
   ]
  },
  {
   "cell_type": "code",
   "execution_count": 6,
   "metadata": {},
   "outputs": [
    {
     "name": "stdout",
     "output_type": "stream",
     "text": [
      "數值府和範圍\n"
     ]
    }
   ],
   "source": [
    "score = int(input('請輸入學生分數(最高300分):'))\n",
    "if score<0:\n",
    "    print(\"數值要大等於0\")\n",
    "if score>300:\n",
    "    print(\"數值要小於等於300\")\n",
    "if score>=0 and score<=300:\n",
    "       print(\"數值府和範圍\")"
   ]
  },
  {
   "cell_type": "code",
   "execution_count": null,
   "metadata": {},
   "outputs": [],
   "source": []
  }
 ],
 "metadata": {
  "kernelspec": {
   "display_name": "Python 3",
   "language": "python",
   "name": "python3"
  },
  "language_info": {
   "codemirror_mode": {
    "name": "ipython",
    "version": 3
   },
   "file_extension": ".py",
   "mimetype": "text/x-python",
   "name": "python",
   "nbconvert_exporter": "python",
   "pygments_lexer": "ipython3",
   "version": "3.11.9"
  }
 },
 "nbformat": 4,
 "nbformat_minor": 2
}

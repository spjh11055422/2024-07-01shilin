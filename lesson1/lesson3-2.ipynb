{
 "cells": [
  {
   "cell_type": "code",
   "execution_count": 3,
   "metadata": {},
   "outputs": [
    {
     "name": "stdout",
     "output_type": "stream",
     "text": [
      "60\n"
     ]
    }
   ],
   "source": [
    "total=0\n",
    "nub1=eval(input('請輸入第一個數:'))\n",
    "total+=nub1\n",
    "nub2=eval(input('請輸入第一個數:'))\n",
    "total+=nub2\n",
    "nub3=eval(input('請輸入第一個數:'))\n",
    "total+=nub3\n",
    "print(total)"
   ]
  },
  {
   "cell_type": "code",
   "execution_count": 2,
   "metadata": {},
   "outputs": [
    {
     "name": "stdout",
     "output_type": "stream",
     "text": [
      "請以(複合指定運算子)設計程式\n",
      "\t讓用者輸入三個任意數\n",
      "\t程式會顯示3數相加的總和\n"
     ]
    }
   ],
   "source": [
    "print('請以(複合指定運算子)設計程式\\n\\t讓用者輸入三個任意數\\n\\t程式會顯示3數相加的總和')"
   ]
  },
  {
   "cell_type": "code",
   "execution_count": null,
   "metadata": {},
   "outputs": [],
   "source": [
    "'''請以(複合指定運算子)設計程式\n",
    "程式會顯示3數相加的總和')"
   ]
  },
  {
   "cell_type": "code",
   "execution_count": 2,
   "metadata": {},
   "outputs": [
    {
     "name": "stdout",
     "output_type": "stream",
     "text": [
      "1-2-3-a-b-c\n"
     ]
    }
   ],
   "source": [
    "print(1,2,3,'a','b','c',sep='-')"
   ]
  },
  {
   "cell_type": "code",
   "execution_count": 8,
   "metadata": {},
   "outputs": [
    {
     "name": "stdout",
     "output_type": "stream",
     "text": [
      "1-2-3-a,b,c\n"
     ]
    }
   ],
   "source": [
    "a=5 \n",
    "b=10\n",
    "c=4\n",
    "print(1,2,3,'a,b,c',sep='-')"
   ]
  },
  {
   "cell_type": "code",
   "execution_count": 13,
   "metadata": {},
   "outputs": [
    {
     "ename": "SyntaxError",
     "evalue": "unexpected character after line continuation character (2771619006.py, line 4)",
     "output_type": "error",
     "traceback": [
      "\u001b[0;36m  Cell \u001b[0;32mIn[13], line 4\u001b[0;36m\u001b[0m\n\u001b[0;31m    print(\"我有\" + str(fruits) + \"水果\"\\n\"我有\" + str(animals) + \"隻動物\"\\n\"我有\" + str(cars) + \"台車\"\\n)\u001b[0m\n\u001b[0m                                    ^\u001b[0m\n\u001b[0;31mSyntaxError\u001b[0m\u001b[0;31m:\u001b[0m unexpected character after line continuation character\n"
     ]
    }
   ],
   "source": [
    "fruits = 3\n",
    "animals = 4\n",
    "cars = 5\n",
    "print(\"我有\" + str(fruits) + \"水果\"\\n\"我有\" + str(animals) + \"隻動物\"\\n我有\" + str(cars) + \"台車\"\\n)"
   ]
  },
  {
   "cell_type": "code",
   "execution_count": 14,
   "metadata": {},
   "outputs": [
    {
     "name": "stdout",
     "output_type": "stream",
     "text": [
      "fruits水果\n",
      "我有animals動物\n",
      "我有cars車\n",
      "\n"
     ]
    }
   ],
   "source": [
    "print(f'fruits水果\\n我有animals動物\\n我有cars車\\n')"
   ]
  },
  {
   "cell_type": "code",
   "execution_count": 18,
   "metadata": {},
   "outputs": [
    {
     "ename": "NameError",
     "evalue": "name 'fruits' is not defined",
     "output_type": "error",
     "traceback": [
      "\u001b[0;31m---------------------------------------------------------------------------\u001b[0m",
      "\u001b[0;31mNameError\u001b[0m                                 Traceback (most recent call last)",
      "Cell \u001b[0;32mIn[18], line 2\u001b[0m\n\u001b[1;32m      1\u001b[0m message \u001b[38;5;241m=\u001b[39m\u001b[38;5;124m'\u001b[39m\u001b[38;5;124m'\u001b[39m\n\u001b[0;32m----> 2\u001b[0m message\u001b[38;5;241m+\u001b[39m\u001b[38;5;241m=\u001b[39m\u001b[38;5;124mf\u001b[39m\u001b[38;5;124m'\u001b[39m\u001b[38;5;124m我有\u001b[39m\u001b[38;5;132;01m{\u001b[39;00m\u001b[43mfruits\u001b[49m\u001b[38;5;132;01m}\u001b[39;00m\u001b[38;5;124m水果\u001b[39m\u001b[38;5;130;01m\\n\u001b[39;00m\u001b[38;5;124m'\u001b[39m\n\u001b[1;32m      3\u001b[0m message\u001b[38;5;241m+\u001b[39m\u001b[38;5;241m=\u001b[39m\u001b[38;5;124mf\u001b[39m\u001b[38;5;124m'\u001b[39m\u001b[38;5;124m我有\u001b[39m\u001b[38;5;132;01m{\u001b[39;00manimals\u001b[38;5;132;01m}\u001b[39;00m\u001b[38;5;124m動物\u001b[39m\u001b[38;5;130;01m\\n\u001b[39;00m\u001b[38;5;124m'\u001b[39m\n\u001b[1;32m      4\u001b[0m message\u001b[38;5;241m+\u001b[39m\u001b[38;5;241m=\u001b[39m\u001b[38;5;124mf\u001b[39m\u001b[38;5;124m'\u001b[39m\u001b[38;5;124m我有\u001b[39m\u001b[38;5;132;01m{\u001b[39;00mcars\u001b[38;5;132;01m}\u001b[39;00m\u001b[38;5;124m車\u001b[39m\u001b[38;5;130;01m\\n\u001b[39;00m\u001b[38;5;124m'\u001b[39m\n",
      "\u001b[0;31mNameError\u001b[0m: name 'fruits' is not defined"
     ]
    }
   ],
   "source": [
    "message =''\n",
    "message+=f'我有{fruits}水果\\n'\n",
    "message+=f'我有{animals}動物\\n'\n",
    "message+=f'我有{cars}車\\n'\n",
    "print(message)"
   ]
  },
  {
   "cell_type": "code",
   "execution_count": 1,
   "metadata": {},
   "outputs": [
    {
     "ename": "SyntaxError",
     "evalue": "invalid syntax (<string>, line 0)",
     "output_type": "error",
     "traceback": [
      "Traceback \u001b[0;36m(most recent call last)\u001b[0m:\n",
      "\u001b[0m  File \u001b[1;32m~/.local/lib/python3.11/site-packages/IPython/core/interactiveshell.py:3577\u001b[0m in \u001b[1;35mrun_code\u001b[0m\n    exec(code_obj, self.user_global_ns, self.user_ns)\u001b[0m\n",
      "\u001b[0;36m  Cell \u001b[0;32mIn[1], line 1\u001b[0;36m\n\u001b[0;31m    r=eval(input('請輸入半徑(公分):'))\u001b[0;36m\n",
      "\u001b[0;36m  File \u001b[0;32m<string>\u001b[0;36m\u001b[0m\n\u001b[0;31m    \u001b[0m\n\u001b[0m    ^\u001b[0m\n\u001b[0;31mSyntaxError\u001b[0m\u001b[0;31m:\u001b[0m invalid syntax\n"
     ]
    }
   ],
   "source": [
    "r=eval(input('請輸入半徑(公分):'))\n",
    "a=r**2*3.14159\n",
    "print(f'半徑為{r}公分,面積{a}平方公分')"
   ]
  }
 ],
 "metadata": {
  "kernelspec": {
   "display_name": "Python 3",
   "language": "python",
   "name": "python3"
  },
  "language_info": {
   "codemirror_mode": {
    "name": "ipython",
    "version": 3
   },
   "file_extension": ".py",
   "mimetype": "text/x-python",
   "name": "python",
   "nbconvert_exporter": "python",
   "pygments_lexer": "ipython3",
   "version": "3.11.9"
  }
 },
 "nbformat": 4,
 "nbformat_minor": 2
}

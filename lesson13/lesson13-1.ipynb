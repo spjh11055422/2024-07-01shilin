{
 "cells": [
  {
   "cell_type": "code",
   "execution_count": 4,
   "metadata": {},
   "outputs": [
    {
     "name": "stdout",
     "output_type": "stream",
     "text": [
      "連線正常\n"
     ]
    }
   ],
   "source": [
    "import requests\n",
    "from requests import Response\n",
    "from pprint import pprint\n",
    "from requests import ConnectionError,TooManyRedirects,Timeout,HTTPError\n",
    "\n",
    "youbike_url = 'https://data.ntpc.gov.tw/api/datasets/010e5b15-3823-4b20-b401-b1cf000550c5/json?size=1000'\n",
    "try:\n",
    "    response:Response = requests.get(youbike_url)\n",
    "    response.raise_for_status()\n",
    "except ConnectionError:\n",
    "    print(\"連線主機出問題\")\n",
    "except TooManyRedirects:\n",
    "    print(\"太多轉址\")\n",
    "except Timeout:\n",
    "    print(\"主機正在忙\")\n",
    "except HTTPError:\n",
    "    print(\"status_不是200\")\n",
    "except:\n",
    "    print(\"不明錯誤\")\n",
    "else:\n",
    "    print(\"連線正常\")"
   ]
  },
  {
   "cell_type": "code",
   "execution_count": 5,
   "metadata": {},
   "outputs": [
    {
     "data": {
      "text/plain": [
       "['土城區',\n",
       " '三峽區',\n",
       " '坪林區',\n",
       " '金山區',\n",
       " '板橋區',\n",
       " '八里區',\n",
       " '泰山區',\n",
       " '石門區',\n",
       " '新店區',\n",
       " '瑞芳區',\n",
       " '深坑區',\n",
       " '林口區',\n",
       " '石碇區',\n",
       " '汐止區',\n",
       " '中和區',\n",
       " '五股區',\n",
       " '永和區',\n",
       " '三重區',\n",
       " '萬里區',\n",
       " '三芝區',\n",
       " '淡水區']"
      ]
     },
     "execution_count": 5,
     "metadata": {},
     "output_type": "execute_result"
    }
   ],
   "source": [
    "\n",
    "data:list[dict] = response.json()\n",
    "sareas= set()\n",
    "for site in data:\n",
    "    sareas.add(site['sarea'])\n",
    "list(sareas)"
   ]
  }
 ],
 "metadata": {
  "kernelspec": {
   "display_name": "Python 3",
   "language": "python",
   "name": "python3"
  },
  "language_info": {
   "codemirror_mode": {
    "name": "ipython",
    "version": 3
   },
   "file_extension": ".py",
   "mimetype": "text/x-python",
   "name": "python",
   "nbconvert_exporter": "python",
   "pygments_lexer": "ipython3",
   "version": "3.11.9"
  }
 },
 "nbformat": 4,
 "nbformat_minor": 2
}

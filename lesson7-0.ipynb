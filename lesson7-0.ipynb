{
 "cells": [
  {
   "cell_type": "code",
   "execution_count": null,
   "metadata": {},
   "outputs": [],
   "source": []
  },
  {
   "cell_type": "code",
   "execution_count": null,
   "metadata": {},
   "outputs": [],
   "source": []
  },
  {
   "cell_type": "code",
   "execution_count": 2,
   "metadata": {},
   "outputs": [
    {
     "name": "stdout",
     "output_type": "stream",
     "text": [
      "A\n",
      "應用城市結束\n"
     ]
    }
   ],
   "source": [
    "while True:\n",
    "    e=input(\"請輸入小寫英文字母\")\n",
    "    if e ==\"q\":\n",
    "        break\n",
    "    print(e.upper())\n",
    "print(\"應用城市結束\")\n"
   ]
  },
  {
   "cell_type": "code",
   "execution_count": null,
   "metadata": {},
   "outputs": [],
   "source": [
    "while True:\n",
    "    letter=input(\"請輸入整數\")\n",
    "    if letter==\"q\":\n",
    "        break\n",
    "    try:\n",
    "        n=int(letter)\n",
    "    except:\n",
    "        print(\"格式錯誤請重新輸入\")\n",
    "        continue\n",
    "    if not n%2==0:\n",
    "\n",
    "        print(n**2)\n",
    "print(\"應用程式結束\")\n",
    "   \n",
    "     \n",
    "\n",
    "       \n"
   ]
  },
  {
   "cell_type": "code",
   "execution_count": 17,
   "metadata": {},
   "outputs": [
    {
     "data": {
      "text/plain": [
       "2"
      ]
     },
     "execution_count": 17,
     "metadata": {},
     "output_type": "execute_result"
    }
   ],
   "source": [
    "import random\n",
    "random.randint(1,10)"
   ]
  },
  {
   "cell_type": "code",
   "execution_count": 29,
   "metadata": {},
   "outputs": [
    {
     "data": {
      "text/plain": [
       "1.4955891929846559"
      ]
     },
     "execution_count": 29,
     "metadata": {},
     "output_type": "execute_result"
    }
   ],
   "source": [
    "random.uniform(1.1,1.9)"
   ]
  },
  {
   "cell_type": "code",
   "execution_count": 39,
   "metadata": {},
   "outputs": [
    {
     "data": {
      "text/plain": [
       "0.7056831474487726"
      ]
     },
     "execution_count": 39,
     "metadata": {},
     "output_type": "execute_result"
    }
   ],
   "source": [
    "random.random()"
   ]
  },
  {
   "cell_type": "code",
   "execution_count": 46,
   "metadata": {},
   "outputs": [
    {
     "name": "stdout",
     "output_type": "stream",
     "text": [
      "===========猜數字遊戲============\n",
      "\n",
      "格式錯誤\n",
      "格式錯誤\n",
      "格式錯誤\n",
      "格式錯誤\n",
      "格式錯誤\n",
      "格式錯誤\n",
      "格式錯誤\n",
      "格式錯誤\n",
      "格式錯誤\n",
      "格式錯誤\n",
      "格式錯誤\n",
      "格式錯誤\n",
      "格式錯誤\n",
      "格式錯誤\n",
      "格式錯誤\n",
      "格式錯誤\n"
     ]
    }
   ],
   "source": [
    "import random\n",
    "\n",
    "min=1\n",
    "max=100\n",
    "target=random.randint(min,max)\n",
    "print(\"===========猜數字遊戲============\\n\")\n",
    "count=0\n",
    "\n",
    "while True:\n",
    "    count+=1\n",
    "    try:\n",
    "        keyin = int(input(f\"猜數字範圍{min}~{max}:\"))\n",
    "    except:\n",
    "        print(\"格式錯誤\")\n",
    "        continue\n",
    "    if keyin < min or keyin > max:\n",
    "        print(\"超過範圍\")\n",
    "        continue\n",
    "    if keyin == target:\n",
    "          print(f\"賓果!猜對了, 答案是:{keyin}\")\n",
    "          print(f\"您猜了{count}次\")\n",
    "          break\n",
    "    elif keyin > target:\n",
    "        print('在小一點')\n",
    "        max = keyin - 1 \n",
    "    elif keyin < target:\n",
    "        print('再大一點')\n",
    "        min = keyin + 1\n",
    "    print(f\"您已經猜了{count}次\")\n",
    "print('應用程式結束')\n",
    "\n",
    "\n",
    "\n",
    "    \n"
   ]
  },
  {
   "cell_type": "code",
   "execution_count": 1,
   "metadata": {},
   "outputs": [
    {
     "name": "stdout",
     "output_type": "stream",
     "text": [
      "90 80 70\n"
     ]
    }
   ],
   "source": [
    "(chinese,english,math)=(90,80,70)\n",
    "print(chinese,english,math)"
   ]
  },
  {
   "cell_type": "code",
   "execution_count": 11,
   "metadata": {},
   "outputs": [
    {
     "data": {
      "text/plain": [
       "(90, 70, 20)"
      ]
     },
     "execution_count": 11,
     "metadata": {},
     "output_type": "execute_result"
    }
   ],
   "source": [
    "(90,70,20)\n"
   ]
  },
  {
   "cell_type": "code",
   "execution_count": 12,
   "metadata": {},
   "outputs": [
    {
     "data": {
      "text/plain": [
       "{70, 80, 90}"
      ]
     },
     "execution_count": 12,
     "metadata": {},
     "output_type": "execute_result"
    }
   ],
   "source": [
    "{90,80,70,}"
   ]
  },
  {
   "cell_type": "code",
   "execution_count": 17,
   "metadata": {},
   "outputs": [
    {
     "data": {
      "text/plain": [
       "80"
      ]
     },
     "execution_count": 17,
     "metadata": {},
     "output_type": "execute_result"
    }
   ],
   "source": [
    "t1=[90,80,70]\n",
    "t1[1]\n"
   ]
  },
  {
   "cell_type": "markdown",
   "metadata": {},
   "source": []
  },
  {
   "cell_type": "markdown",
   "metadata": {},
   "source": []
  },
  {
   "cell_type": "code",
   "execution_count": 18,
   "metadata": {},
   "outputs": [
    {
     "data": {
      "text/plain": [
       "{1, 2, 3}"
      ]
     },
     "execution_count": 18,
     "metadata": {},
     "output_type": "execute_result"
    }
   ],
   "source": [
    "{1,2,3}"
   ]
  },
  {
   "cell_type": "code",
   "execution_count": null,
   "metadata": {},
   "outputs": [],
   "source": []
  }
 ],
 "metadata": {
  "kernelspec": {
   "display_name": "Python 3",
   "language": "python",
   "name": "python3"
  },
  "language_info": {
   "codemirror_mode": {
    "name": "ipython",
    "version": 3
   },
   "file_extension": ".py",
   "mimetype": "text/x-python",
   "name": "python",
   "nbconvert_exporter": "python",
   "pygments_lexer": "ipython3",
   "version": "3.11.9"
  }
 },
 "nbformat": 4,
 "nbformat_minor": 2
}
